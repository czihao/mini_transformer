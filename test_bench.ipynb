{
 "cells": [
  {
   "cell_type": "code",
   "execution_count": null,
   "metadata": {},
   "outputs": [],
   "source": [
    "import torch\n",
    "import torch.nn as nn\n",
    "\n",
    "\n",
    "num_neurons = 10\n",
    "num_pattern = 10\n",
    "patterns = 2*torch.rand((num_pattern, num_neurons))-1\n",
    "patterns = torch.where(patterns > 0, float(1),float(-1))\n",
    "\n",
    "class hpf(nn.Module):\n",
    "    def __init__(self):\n",
    "        super().__init__()\n",
    "        self.x = nn.Parameter(2*torch.rand((num_neurons, 1), requires_grad=False)-1)\n",
    "        # self.Q = 2*torch.rand((num_neurons, num_neurons))-1\n",
    "        for i, pattern in enumerate(patterns):\n",
    "            if i == 0:\n",
    "                self.Q = torch.outer(pattern, pattern)\n",
    "            else:\n",
    "                self.Q += torch.outer(pattern, pattern)\n",
    "        self.Q /= num_pattern\n",
    "    \n",
    "    def forward(self, x=None):\n",
    "        return -self.x.T @ self.Q @ self.x"
   ]
  }
 ],
 "metadata": {
  "kernelspec": {
   "display_name": "Python 3.9.7 ('base')",
   "language": "python",
   "name": "python3"
  },
  "language_info": {
   "name": "python",
   "version": "3.9.7"
  },
  "orig_nbformat": 4,
  "vscode": {
   "interpreter": {
    "hash": "6b7b7ad7ebbf5dec1e3bd6f3503e5a1a01ea8e73483aa29d2c40a9c40c3a96ff"
   }
  }
 },
 "nbformat": 4,
 "nbformat_minor": 2
}
