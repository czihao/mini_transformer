{
 "cells": [
  {
   "cell_type": "code",
   "execution_count": 8,
   "metadata": {},
   "outputs": [
    {
     "name": "stdout",
     "output_type": "stream",
     "text": [
      "tensor([[-4.4409e-16,  2.2204e-16,  2.2204e-16,  0.0000e+00],\n",
      "        [ 2.2204e-16,  0.0000e+00,  2.2204e-16,  0.0000e+00],\n",
      "        [ 2.2204e-16,  2.2204e-16,  0.0000e+00,  0.0000e+00],\n",
      "        [ 0.0000e+00,  0.0000e+00,  0.0000e+00,  0.0000e+00]],\n",
      "       dtype=torch.float64)\n"
     ]
    }
   ],
   "source": [
    "import torch\n",
    "import torch.nn as nn\n",
    "\n",
    "torch.manual_seed(10086)\n",
    "\n",
    "B = 4\n",
    "R = 8\n",
    "\n",
    "batch1 = torch.rand((B, R), dtype=torch.float64)\n",
    "\n",
    "hpf = batch1 @ batch1.transpose(1, 0)\n",
    "\n",
    "hpf_man = torch.zeros_like(hpf, dtype=torch.float64)\n",
    "for i in range(B):\n",
    "    for j in range(B):\n",
    "        hpf_man[i, j] = batch1[i, :] @ batch1[j, :]\n",
    "\n",
    "print(hpf-hpf_man)"
   ]
  },
  {
   "cell_type": "code",
   "execution_count": null,
   "metadata": {},
   "outputs": [],
   "source": [
    "import torch\n",
    "import numpy as np\n",
    "import torch.nn as nn\n",
    "import torch.nn.functional as F\n",
    "import matplotlib.pyplot as plt\n",
    "from keras.datasets import mnist\n",
    "\n",
    "torch.manual_seed(0)\n",
    "torch.use_deterministic_algorithms(True)\n",
    "\n",
    "(train_X, train_y), (test_X, test_y) = mnist.load_data()\n",
    "\n",
    "num_neurons = train_X.shape[1]**2\n",
    "num_pattern = 3\n",
    "patterns = np.zeros((num_pattern, num_neurons))\n",
    "idx = np.random.permutation(np.arange(train_X.shape[0]))\n",
    "for i in range(num_pattern):\n",
    "    patterns[i,:] = train_X[idx[i]].flatten()\n",
    "patterns = torch.tensor(patterns)\n",
    "# patterns = 2*torch.rand((num_pattern, num_neurons))-1\n",
    "patterns = torch.where(patterns > 0, float(1),float(-1))\n",
    "fig = plt.figure()\n",
    "ax1 = fig.add_subplot(131)\n",
    "ax2 = fig.add_subplot(132)\n",
    "ax3 = fig.add_subplot(133)\n",
    "\n",
    "ax1.imshow(patterns[0].reshape(train_X.shape[1], train_X.shape[1]), cmap=plt.get_cmap('gray'))\n",
    "# plt.show()\n",
    "ax2.imshow(patterns[1].reshape(train_X.shape[1], train_X.shape[1]), cmap=plt.get_cmap('gray'))\n",
    "# plt.show()\n",
    "ax3.imshow(patterns[2].reshape(train_X.shape[1], train_X.shape[1]), cmap=plt.get_cmap('gray'))\n",
    "plt.show()"
   ]
  },
  {
   "cell_type": "code",
   "execution_count": 4,
   "metadata": {},
   "outputs": [
    {
     "name": "stdout",
     "output_type": "stream",
     "text": [
      "tensor(1.0569)\n",
      "tensor(1.0569)\n",
      "torch.Size([])\n"
     ]
    }
   ],
   "source": [
    "import torch\n",
    "import torch.nn as nn\n",
    "\n",
    "a = torch.rand((4,))\n",
    "b = torch.rand((4,))\n",
    "c1 = 0\n",
    "for i in range(4):\n",
    "    c1 += a[i]*b[i]\n",
    "c = a@b\n",
    "print(c)\n",
    "print(c1)\n",
    "print(c.shape)"
   ]
  }
 ],
 "metadata": {
  "kernelspec": {
   "display_name": "Python 3.9.7 ('base')",
   "language": "python",
   "name": "python3"
  },
  "language_info": {
   "codemirror_mode": {
    "name": "ipython",
    "version": 3
   },
   "file_extension": ".py",
   "mimetype": "text/x-python",
   "name": "python",
   "nbconvert_exporter": "python",
   "pygments_lexer": "ipython3",
   "version": "3.9.7"
  },
  "orig_nbformat": 4,
  "vscode": {
   "interpreter": {
    "hash": "6b7b7ad7ebbf5dec1e3bd6f3503e5a1a01ea8e73483aa29d2c40a9c40c3a96ff"
   }
  }
 },
 "nbformat": 4,
 "nbformat_minor": 2
}
